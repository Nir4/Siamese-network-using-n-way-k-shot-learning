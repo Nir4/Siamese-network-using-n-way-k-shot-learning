{
  "nbformat": 4,
  "nbformat_minor": 0,
  "metadata": {
    "colab": {
      "provenance": []
    },
    "kernelspec": {
      "name": "python3",
      "display_name": "Python 3"
    },
    "language_info": {
      "name": "python"
    }
  },
  "cells": [
    {
      "cell_type": "code",
      "execution_count": null,
      "metadata": {
        "id": "dWcFb81P541M"
      },
      "outputs": [],
      "source": [
        "import torch\n",
        "import torch.nn as nn\n",
        "import torch.optim as optim\n",
        "from torchvision import transforms, datasets, models\n",
        "from torch.utils.data import DataLoader, Dataset\n",
        "import numpy as np\n",
        "from PIL import Image\n",
        "from PIL import Image\n",
        "import numpy as np\n",
        "import random\n",
        "from torchvision import transforms"
      ]
    },
    {
      "cell_type": "code",
      "source": [
        "from google.colab import drive\n",
        "drive.mount('/content/drive')"
      ],
      "metadata": {
        "colab": {
          "base_uri": "https://localhost:8080/"
        },
        "id": "L-xDHxix56Yj",
        "outputId": "e6f0536a-01a5-46ee-d291-de362293c7d8"
      },
      "execution_count": null,
      "outputs": [
        {
          "output_type": "stream",
          "name": "stdout",
          "text": [
            "Drive already mounted at /content/drive; to attempt to forcibly remount, call drive.mount(\"/content/drive\", force_remount=True).\n"
          ]
        }
      ]
    },
    {
      "cell_type": "markdown",
      "source": [
        "Defining Similarity Metrics"
      ],
      "metadata": {
        "id": "PodsOEqwc12F"
      }
    },
    {
      "cell_type": "code",
      "source": [
        "import torch\n",
        "import torch.nn as nn\n",
        "import torch.nn.functional as F\n",
        "\n",
        "class PearsonCorrelationLoss(nn.Module):\n",
        "    def _init_(self):\n",
        "        super(PearsonCorrelationLoss, self)._init_()\n",
        "\n",
        "    def forward(self, predicted, target):\n",
        "        # Calculate the mean of predicted and target values\n",
        "        predicted_mean = torch.mean(predicted)\n",
        "        target_mean = torch.mean(target)\n",
        "\n",
        "        # Calculate the covariance and variances\n",
        "        covar = torch.mean((predicted - predicted_mean) * (target - target_mean))\n",
        "        predicted_var = torch.mean((predicted - predicted_mean)**2)\n",
        "        target_var = torch.mean((target - target_mean)**2)\n",
        "\n",
        "        # Calculate the Pearson correlation coefficient\n",
        "        pearson_corr = covar / (torch.sqrt(predicted_var) * torch.sqrt(target_var))\n",
        "\n",
        "        # The loss is the negative of the correlation coefficient to be minimized\n",
        "        loss = -pearson_corr\n",
        "\n",
        "        return loss\n",
        "\n",
        "pearson_correlation = PearsonCorrelationLoss()\n",
        "\n",
        "class CustomSigmoid(nn.Module):\n",
        "    def __init__(self):\n",
        "        super(CustomSigmoid, self).__init__()\n",
        "\n",
        "    def forward(self, x):\n",
        "        # Implement the sigmoid function using the torch.sigmoid function\n",
        "        sigmoid_x = torch.sigmoid(x)\n",
        "        return sigmoid_x\n",
        "\n",
        "# Example usage:\n",
        "custom_sigmoid = CustomSigmoid()\n",
        "\n",
        "class CustomCosineSimilarity(nn.Module):\n",
        "    def __init__(self, eps=1e-8):\n",
        "        super(CustomCosineSimilarity, self).__init__()\n",
        "        self.eps = eps\n",
        "\n",
        "    def forward(self, x1, x2):\n",
        "        # Compute the cosine similarity between x1 and x2\n",
        "        dot_product = torch.sum(x1 * x2, dim=-1)\n",
        "        norm_x1 = torch.norm(x1, dim=-1, p=2) + self.eps\n",
        "        norm_x2 = torch.norm(x2, dim=-1, p=2) + self.eps\n",
        "        cosine_sim = dot_product / (norm_x1 * norm_x2)\n",
        "        return cosine_sim\n",
        "\n",
        "# Example usage:\n",
        "\n",
        "custom_cosine_similarity = CustomCosineSimilarity()\n",
        "\n",
        "# similarity = custom_cosine_similarity(x1, x2)\n",
        "\n",
        "\n"
      ],
      "metadata": {
        "id": "dPWYOAzv58Bp"
      },
      "execution_count": null,
      "outputs": []
    },
    {
      "cell_type": "markdown",
      "source": [
        "Tweaking the no. of shots"
      ],
      "metadata": {
        "id": "b64QDje9c9xJ"
      }
    },
    {
      "cell_type": "code",
      "source": [
        "shot=14"
      ],
      "metadata": {
        "id": "WuaRKjNkJk_l"
      },
      "execution_count": null,
      "outputs": []
    },
    {
      "cell_type": "markdown",
      "source": [
        "Preprocessing the data for suitable input shape"
      ],
      "metadata": {
        "id": "-4WEnNHDdEXh"
      }
    },
    {
      "cell_type": "code",
      "source": [
        "import os\n",
        "import itertools\n",
        "\n",
        "def change_size(dataset_root, dataset_root_new):\n",
        "    class_folders = os.listdir(dataset_root)\n",
        "    for class_folder in class_folders:\n",
        "        wherewe_have_to_add = os.path.join(dataset_root_new, class_folder)\n",
        "        class_path = os.path.join(dataset_root, class_folder)\n",
        "        os.makedirs(wherewe_have_to_add)\n",
        "        image_files = os.listdir(class_path)\n",
        "        for i in image_files:\n",
        "            new_path = os.path.join(class_path, i);\n",
        "            grayscale_image = Image.open(new_path)\n",
        "\n",
        "            # Create a new RGB image with the desired size\n",
        "            new_image = Image.new(\"RGB\", (224, 224), \"white\")\n",
        "\n",
        "            # Paste the grayscale image onto the RGB image's center\n",
        "            x_offset = (224 - 105) // 2\n",
        "            y_offset = (224 - 105) // 2\n",
        "            new_image.paste(grayscale_image, (x_offset, y_offset))\n",
        "\n",
        "            # Convert the image to a NumPy array\n",
        "            rgb_image = np.array(new_image)\n",
        "\n",
        "            # Create three channels by copying the single-channel data to all channels\n",
        "            rgb_image = np.stack([rgb_image] * 3, axis=-1)\n",
        "\n",
        "            # Save the modified RGB image to a specific directory with a new name\n",
        "            new_image.save(os.path.join(wherewe_have_to_add, i))\n",
        "\n",
        "            # Display the RGB image\n",
        "            new_image.show()\n",
        "\n",
        "\n",
        "\n",
        "def generate_test_representative(dataset_root, no_of_shot):\n",
        "    images = []\n",
        "    class_folders = os.listdir(dataset_root)\n",
        "    #Test Data\n",
        "    for class_ in class_folders:\n",
        "      path_class = os.path.join(dataset_root,class_ )\n",
        "      image_in_class = os.listdir(path_class)\n",
        "      for image in image_in_class:\n",
        "        images.append(os.path.join(path_class, image))\n",
        "    #random.shuffle(images)\n",
        "\n",
        "    #Representative data\n",
        "    rep_data = []\n",
        "    for class_ in class_folders:\n",
        "      path_class = os.path.join(dataset_root,class_ )\n",
        "      images_in_class = os.listdir(path_class)\n",
        "      # print(images_in_class)\n",
        "      random_values = random.sample(images_in_class, no_of_shot)\n",
        "      # print(random_values)\n",
        "      to_add = []\n",
        "      for basename in random_values:\n",
        "        to_add.append(os.path.join(path_class, basename))\n",
        "      rep_data.append(to_add)\n",
        "    return (images, rep_data)\n",
        "\n",
        "\n",
        "dataset_root     = \"/content/drive/My Drive/Greek\"\n",
        "dataset_root_new = \"/content/drive/My Drive/Greek_new\"\n",
        "\n",
        "\n"
      ],
      "metadata": {
        "id": "o1rfHcQ26A_G"
      },
      "execution_count": null,
      "outputs": []
    },
    {
      "cell_type": "code",
      "source": [
        "(images, rep_data) = generate_test_representative(dataset_root_new, shot )\n",
        "images_path = images\n",
        "rep_data_path = rep_data\n"
      ],
      "metadata": {
        "id": "72m43ylU6EA8"
      },
      "execution_count": null,
      "outputs": []
    },
    {
      "cell_type": "code",
      "source": [
        "import matplotlib.pyplot as plt\n",
        "\n",
        "for i in range(0, len(images)):\n",
        "      image  = Image.open(images[i])\n",
        "      images[i] = transforms.ToTensor()(image)\n",
        "      #imgplot = plt.imshow(img)\n",
        "      images[i] = torch.tensor(images[i])\n",
        "print(images[0].shape)"
      ],
      "metadata": {
        "colab": {
          "base_uri": "https://localhost:8080/"
        },
        "id": "eaqWGgn56HFt",
        "outputId": "18192e31-26e0-475f-d173-3d742cb75669"
      },
      "execution_count": null,
      "outputs": [
        {
          "output_type": "stream",
          "name": "stderr",
          "text": [
            "<ipython-input-40-38075824437d>:7: UserWarning: To copy construct from a tensor, it is recommended to use sourceTensor.clone().detach() or sourceTensor.clone().detach().requires_grad_(True), rather than torch.tensor(sourceTensor).\n",
            "  images[i] = torch.tensor(images[i])\n"
          ]
        },
        {
          "output_type": "stream",
          "name": "stdout",
          "text": [
            "torch.Size([3, 224, 224])\n"
          ]
        }
      ]
    },
    {
      "cell_type": "code",
      "source": [
        "%matplotlib inline\n",
        "import matplotlib.pyplot as plt\n",
        "import matplotlib.image as mpimg\n",
        "for i in range(0, len(rep_data)):\n",
        "    for j in range(0,shot):\n",
        "      image =Image.open(rep_data[i][j])\n",
        "      #imgplot  = plt.imshow(img)\n",
        "      rep_data[i][j]= transforms.ToTensor()(image)\n",
        "print(rep_data[0][0].shape)\n"
      ],
      "metadata": {
        "colab": {
          "base_uri": "https://localhost:8080/"
        },
        "id": "BtD16GPC6J2R",
        "outputId": "e787d253-56db-472f-ef90-f34999ff06cb"
      },
      "execution_count": null,
      "outputs": [
        {
          "output_type": "stream",
          "name": "stdout",
          "text": [
            "torch.Size([3, 224, 224])\n"
          ]
        }
      ]
    },
    {
      "cell_type": "markdown",
      "source": [
        "Generating pretrained model"
      ],
      "metadata": {
        "id": "_7Ppo2oremm9"
      }
    },
    {
      "cell_type": "code",
      "source": [
        "import torch\n",
        "import torch.nn as nn\n",
        "from torchvision import transforms, models\n",
        "from torch.utils.data import DataLoader, Dataset\n",
        "\n",
        "\n",
        "def general_model(index, images,rep_images ):\n",
        "  # Load the pre-trained ResNet model without additional layers\n",
        "\n",
        "\n",
        "  # Extract the last layer (before classification)\n",
        "\n",
        "  vgg16_model = models.vgg16(pretrained=True)\n",
        "\n",
        "  # Extract the feature layers (excluding the classification layers)\n",
        "  pretrained_features = nn.Sequential(*list(vgg16_model.features.children())[:-1])\n",
        "\n",
        "  Final = []\n",
        "  for image_sample in images:\n",
        "    with torch.no_grad():\n",
        "      image_tensor = image_sample.unsqueeze(0)  # Add a batch dimension\n",
        "      # print(image_tensor.shape)\n",
        "      features1 = vgg16_model(image_tensor)\n",
        "    # features1 = resnet_model(image_sample)\n",
        "    fin_output = []\n",
        "    for class_ in rep_images:\n",
        "      prob = []\n",
        "      for image in class_:\n",
        "\n",
        "        with torch.no_grad():\n",
        "          image_tensor = image.unsqueeze(0)  # Add a batch dimension\n",
        "          features2 = vgg16_model(image_tensor)\n",
        "\n",
        "        similarity_index = index(features1, features2)\n",
        "        prob.append(similarity_index)\n",
        "      val = 0;\n",
        "      for value in prob:\n",
        "        val+=value\n",
        "\n",
        "      fin_output.append(val/len(prob))\n",
        "    ind = 0\n",
        "    maxi = 0\n",
        "    for i in range(len(fin_output)-1):\n",
        "      if(fin_output[i] > maxi):\n",
        "        maxi = max( maxi, fin_output[i])\n",
        "        ind = i\n",
        "    Final.append([ind, maxi])\n",
        "\n",
        "\n",
        "\n",
        "  return Final\n",
        "# You can use `features1` and `features2` for similarity calculation (e.g., cosine similarity) or any other task you have in mind.\n"
      ],
      "metadata": {
        "id": "9CTb_kMg6MIT"
      },
      "execution_count": null,
      "outputs": []
    },
    {
      "cell_type": "code",
      "source": [
        "print(rep_data[0][0].shape)"
      ],
      "metadata": {
        "colab": {
          "base_uri": "https://localhost:8080/"
        },
        "id": "x3iNObRHlcRB",
        "outputId": "0b9a03ba-8864-4f90-8bea-37b1b5d39eac"
      },
      "execution_count": null,
      "outputs": [
        {
          "output_type": "stream",
          "name": "stdout",
          "text": [
            "torch.Size([3, 224, 224])\n"
          ]
        }
      ]
    },
    {
      "cell_type": "markdown",
      "source": [
        "Running the model and achieving similiarity score"
      ],
      "metadata": {
        "id": "_yYD5qjle2Xn"
      }
    },
    {
      "cell_type": "code",
      "source": [
        "a = general_model(custom_cosine_similarity,images[0:20], rep_data)\n",
        "print(a)"
      ],
      "metadata": {
        "colab": {
          "base_uri": "https://localhost:8080/"
        },
        "id": "xleW615s6ORU",
        "outputId": "b9f2d883-9e6f-4e36-d1e1-55af72270e06"
      },
      "execution_count": null,
      "outputs": [
        {
          "output_type": "stream",
          "name": "stdout",
          "text": [
            "[[12, tensor([0.7818])], [0, tensor([0.7887])], [0, tensor([0.7614])], [0, tensor([0.7411])], [19, tensor([0.7492])], [0, tensor([0.7572])], [0, tensor([0.7356])], [0, tensor([0.7841])], [19, tensor([0.7957])], [0, tensor([0.7864])], [19, tensor([0.7772])], [14, tensor([0.7007])], [0, tensor([0.7307])], [9, tensor([0.7745])], [19, tensor([0.7803])], [12, tensor([0.7691])], [5, tensor([0.7792])], [19, tensor([0.7694])], [9, tensor([0.7915])], [0, tensor([0.7796])]]\n"
          ]
        }
      ]
    },
    {
      "cell_type": "markdown",
      "source": [
        "Plotting accuracy vs No. of shots"
      ],
      "metadata": {
        "id": "ssma2vvCe8M5"
      }
    },
    {
      "cell_type": "code",
      "source": [],
      "metadata": {
        "colab": {
          "base_uri": "https://localhost:8080/"
        },
        "id": "yiyQZB2SBGOO",
        "outputId": "be1f07b8-03ba-4587-9de1-6a065041e9dc"
      },
      "execution_count": null,
      "outputs": [
        {
          "output_type": "display_data",
          "data": {
            "text/plain": [
              "<Figure size 640x480 with 1 Axes>"
            ],
            "image/png": "[encoded data removed]"
          },
          "metadata": {}
        }
      ]
    }
  ]
}